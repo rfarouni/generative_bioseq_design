{
 "cells": [
  {
   "cell_type": "code",
   "execution_count": 1,
   "metadata": {},
   "outputs": [],
   "source": [
    "import matplotlib.pyplot as plt\n",
    "import numpy as np\n",
    "import pandas as pd\n",
    "import os\n",
    "import random\n",
    "import torch\n",
    "import optuna\n",
    "import lightning as L\n",
    "from lightning.pytorch.callbacks import ModelCheckpoint\n",
    "from pytorch_lightning.loggers import CSVLogger\n",
    "from optuna.integration import PyTorchLightningPruningCallback\n",
    "from torchmetrics.functional.classification import binary_confusion_matrix\n",
    "from dataset_module import SeqDatasetModule\n",
    "from classification_attention_model import SequenceEncoder\n",
    "from sklearn.model_selection import train_test_split\n",
    "from dataclasses import dataclass"
   ]
  },
  {
   "cell_type": "code",
   "execution_count": 2,
   "metadata": {},
   "outputs": [],
   "source": [
    "def set_seed(seed):\n",
    "    random.seed(seed)\n",
    "    np.random.seed(seed)\n",
    "    torch.manual_seed(seed)\n",
    "    torch.cuda.manual_seed(seed)\n",
    "    torch.backends.cudnn.deterministic = True\n",
    "    torch.backends.cudnn.benchmark = False\n",
    "\n",
    "# Set seed for reproducibility\n",
    "seed=17\n",
    "set_seed(seed)\n",
    "\n",
    "#DEVICE = torch.device(\"cuda\" if torch.cuda.is_available() else \"cpu\")\n"
   ]
  },
  {
   "cell_type": "markdown",
   "metadata": {},
   "source": [
    "Load data"
   ]
  },
  {
   "cell_type": "code",
   "execution_count": 3,
   "metadata": {},
   "outputs": [
    {
     "data": {
      "text/html": [
       "<div>\n",
       "<style scoped>\n",
       "    .dataframe tbody tr th:only-of-type {\n",
       "        vertical-align: middle;\n",
       "    }\n",
       "\n",
       "    .dataframe tbody tr th {\n",
       "        vertical-align: top;\n",
       "    }\n",
       "\n",
       "    .dataframe thead th {\n",
       "        text-align: right;\n",
       "    }\n",
       "</style>\n",
       "<table border=\"1\" class=\"dataframe\">\n",
       "  <thead>\n",
       "    <tr style=\"text-align: right;\">\n",
       "      <th></th>\n",
       "      <th>seq</th>\n",
       "      <th>label</th>\n",
       "      <th>motif</th>\n",
       "      <th>positions</th>\n",
       "      <th>mult_motifs</th>\n",
       "    </tr>\n",
       "  </thead>\n",
       "  <tbody>\n",
       "    <tr>\n",
       "      <th>0</th>\n",
       "      <td>AAAAPA</td>\n",
       "      <td>1</td>\n",
       "      <td>A...PA</td>\n",
       "      <td>(1, 2, 3)</td>\n",
       "      <td>0</td>\n",
       "    </tr>\n",
       "    <tr>\n",
       "      <th>1</th>\n",
       "      <td>AAACPA</td>\n",
       "      <td>1</td>\n",
       "      <td>A...PA</td>\n",
       "      <td>(1, 2, 3)</td>\n",
       "      <td>0</td>\n",
       "    </tr>\n",
       "    <tr>\n",
       "      <th>2</th>\n",
       "      <td>AAADPA</td>\n",
       "      <td>1</td>\n",
       "      <td>A...PA</td>\n",
       "      <td>(1, 2, 3)</td>\n",
       "      <td>0</td>\n",
       "    </tr>\n",
       "    <tr>\n",
       "      <th>3</th>\n",
       "      <td>AAAEPA</td>\n",
       "      <td>1</td>\n",
       "      <td>A...PA</td>\n",
       "      <td>(1, 2, 3)</td>\n",
       "      <td>0</td>\n",
       "    </tr>\n",
       "    <tr>\n",
       "      <th>4</th>\n",
       "      <td>AAAFPA</td>\n",
       "      <td>1</td>\n",
       "      <td>A...PA</td>\n",
       "      <td>(1, 2, 3)</td>\n",
       "      <td>0</td>\n",
       "    </tr>\n",
       "    <tr>\n",
       "      <th>...</th>\n",
       "      <td>...</td>\n",
       "      <td>...</td>\n",
       "      <td>...</td>\n",
       "      <td>...</td>\n",
       "      <td>...</td>\n",
       "    </tr>\n",
       "    <tr>\n",
       "      <th>396303</th>\n",
       "      <td>YYWSSW</td>\n",
       "      <td>1</td>\n",
       "      <td>..WS.W</td>\n",
       "      <td>(0, 1, 4)</td>\n",
       "      <td>0</td>\n",
       "    </tr>\n",
       "    <tr>\n",
       "      <th>396304</th>\n",
       "      <td>YYWSTW</td>\n",
       "      <td>1</td>\n",
       "      <td>..WS.W</td>\n",
       "      <td>(0, 1, 4)</td>\n",
       "      <td>0</td>\n",
       "    </tr>\n",
       "    <tr>\n",
       "      <th>396305</th>\n",
       "      <td>YYWSVW</td>\n",
       "      <td>1</td>\n",
       "      <td>..WS.W</td>\n",
       "      <td>(0, 1, 4)</td>\n",
       "      <td>0</td>\n",
       "    </tr>\n",
       "    <tr>\n",
       "      <th>396306</th>\n",
       "      <td>YYWSWW</td>\n",
       "      <td>1</td>\n",
       "      <td>..WS.W</td>\n",
       "      <td>(0, 1, 4)</td>\n",
       "      <td>0</td>\n",
       "    </tr>\n",
       "    <tr>\n",
       "      <th>396307</th>\n",
       "      <td>YYWSYW</td>\n",
       "      <td>1</td>\n",
       "      <td>..WS.W</td>\n",
       "      <td>(0, 1, 4)</td>\n",
       "      <td>0</td>\n",
       "    </tr>\n",
       "  </tbody>\n",
       "</table>\n",
       "<p>396308 rows × 5 columns</p>\n",
       "</div>"
      ],
      "text/plain": [
       "           seq  label   motif  positions  mult_motifs\n",
       "0       AAAAPA      1  A...PA  (1, 2, 3)            0\n",
       "1       AAACPA      1  A...PA  (1, 2, 3)            0\n",
       "2       AAADPA      1  A...PA  (1, 2, 3)            0\n",
       "3       AAAEPA      1  A...PA  (1, 2, 3)            0\n",
       "4       AAAFPA      1  A...PA  (1, 2, 3)            0\n",
       "...        ...    ...     ...        ...          ...\n",
       "396303  YYWSSW      1  ..WS.W  (0, 1, 4)            0\n",
       "396304  YYWSTW      1  ..WS.W  (0, 1, 4)            0\n",
       "396305  YYWSVW      1  ..WS.W  (0, 1, 4)            0\n",
       "396306  YYWSWW      1  ..WS.W  (0, 1, 4)            0\n",
       "396307  YYWSYW      1  ..WS.W  (0, 1, 4)            0\n",
       "\n",
       "[396308 rows x 5 columns]"
      ]
     },
     "execution_count": 3,
     "metadata": {},
     "output_type": "execute_result"
    }
   ],
   "source": [
    "data_dir=\"./data\"\n",
    "filename= \"classification_SeqLen6_MotifLen3_MotifsNum50.csv\"\n",
    "df= pd.read_csv(os.path.join(data_dir, filename))\n",
    "df"
   ]
  },
  {
   "cell_type": "code",
   "execution_count": 4,
   "metadata": {},
   "outputs": [
    {
     "data": {
      "text/html": [
       "<div>\n",
       "<style scoped>\n",
       "    .dataframe tbody tr th:only-of-type {\n",
       "        vertical-align: middle;\n",
       "    }\n",
       "\n",
       "    .dataframe tbody tr th {\n",
       "        vertical-align: top;\n",
       "    }\n",
       "\n",
       "    .dataframe thead th {\n",
       "        text-align: right;\n",
       "    }\n",
       "</style>\n",
       "<table border=\"1\" class=\"dataframe\">\n",
       "  <thead>\n",
       "    <tr style=\"text-align: right;\">\n",
       "      <th></th>\n",
       "      <th>seq</th>\n",
       "      <th>label</th>\n",
       "      <th>motif</th>\n",
       "      <th>positions</th>\n",
       "      <th>mult_motifs</th>\n",
       "    </tr>\n",
       "  </thead>\n",
       "  <tbody>\n",
       "    <tr>\n",
       "      <th>194320</th>\n",
       "      <td>KRASAM</td>\n",
       "      <td>1</td>\n",
       "      <td>..ASA.</td>\n",
       "      <td>(0, 1, 5)</td>\n",
       "      <td>0</td>\n",
       "    </tr>\n",
       "    <tr>\n",
       "      <th>193740</th>\n",
       "      <td>KQQDKA</td>\n",
       "      <td>0</td>\n",
       "      <td>..QD.A</td>\n",
       "      <td>(0, 1, 4)</td>\n",
       "      <td>0</td>\n",
       "    </tr>\n",
       "    <tr>\n",
       "      <th>378379</th>\n",
       "      <td>WQLPMS</td>\n",
       "      <td>0</td>\n",
       "      <td>..LP.S</td>\n",
       "      <td>(0, 1, 4)</td>\n",
       "      <td>0</td>\n",
       "    </tr>\n",
       "    <tr>\n",
       "      <th>71416</th>\n",
       "      <td>CTSRAN</td>\n",
       "      <td>1</td>\n",
       "      <td>..SRA.</td>\n",
       "      <td>(0, 1, 5)</td>\n",
       "      <td>0</td>\n",
       "    </tr>\n",
       "    <tr>\n",
       "      <th>214519</th>\n",
       "      <td>MASAHQ</td>\n",
       "      <td>1</td>\n",
       "      <td>.AS..Q</td>\n",
       "      <td>(0, 3, 4)</td>\n",
       "      <td>0</td>\n",
       "    </tr>\n",
       "    <tr>\n",
       "      <th>...</th>\n",
       "      <td>...</td>\n",
       "      <td>...</td>\n",
       "      <td>...</td>\n",
       "      <td>...</td>\n",
       "      <td>...</td>\n",
       "    </tr>\n",
       "    <tr>\n",
       "      <th>251821</th>\n",
       "      <td>PQSPDS</td>\n",
       "      <td>1</td>\n",
       "      <td>PQ.P..</td>\n",
       "      <td>(2, 4, 5)</td>\n",
       "      <td>0</td>\n",
       "    </tr>\n",
       "    <tr>\n",
       "      <th>125680</th>\n",
       "      <td>GHGRFQ</td>\n",
       "      <td>0</td>\n",
       "      <td>G.GR..</td>\n",
       "      <td>(1, 4, 5)</td>\n",
       "      <td>0</td>\n",
       "    </tr>\n",
       "    <tr>\n",
       "      <th>304441</th>\n",
       "      <td>RTDCWA</td>\n",
       "      <td>1</td>\n",
       "      <td>..DCW.</td>\n",
       "      <td>(0, 1, 5)</td>\n",
       "      <td>0</td>\n",
       "    </tr>\n",
       "    <tr>\n",
       "      <th>297103</th>\n",
       "      <td>RMPPSG</td>\n",
       "      <td>1</td>\n",
       "      <td>R.PP..</td>\n",
       "      <td>(1, 4, 5)</td>\n",
       "      <td>0</td>\n",
       "    </tr>\n",
       "    <tr>\n",
       "      <th>64753</th>\n",
       "      <td>CPGAQH</td>\n",
       "      <td>1</td>\n",
       "      <td>.P.AQ.</td>\n",
       "      <td>(0, 2, 5)</td>\n",
       "      <td>0</td>\n",
       "    </tr>\n",
       "  </tbody>\n",
       "</table>\n",
       "<p>317046 rows × 5 columns</p>\n",
       "</div>"
      ],
      "text/plain": [
       "           seq  label   motif  positions  mult_motifs\n",
       "194320  KRASAM      1  ..ASA.  (0, 1, 5)            0\n",
       "193740  KQQDKA      0  ..QD.A  (0, 1, 4)            0\n",
       "378379  WQLPMS      0  ..LP.S  (0, 1, 4)            0\n",
       "71416   CTSRAN      1  ..SRA.  (0, 1, 5)            0\n",
       "214519  MASAHQ      1  .AS..Q  (0, 3, 4)            0\n",
       "...        ...    ...     ...        ...          ...\n",
       "251821  PQSPDS      1  PQ.P..  (2, 4, 5)            0\n",
       "125680  GHGRFQ      0  G.GR..  (1, 4, 5)            0\n",
       "304441  RTDCWA      1  ..DCW.  (0, 1, 5)            0\n",
       "297103  RMPPSG      1  R.PP..  (1, 4, 5)            0\n",
       "64753   CPGAQH      1  .P.AQ.  (0, 2, 5)            0\n",
       "\n",
       "[317046 rows x 5 columns]"
      ]
     },
     "execution_count": 4,
     "metadata": {},
     "output_type": "execute_result"
    }
   ],
   "source": [
    "\n",
    "train_val_dataset, test_dataset = train_test_split(df, test_size=0.2, random_state=seed)\n",
    "train_val_dataset\n"
   ]
  },
  {
   "cell_type": "markdown",
   "metadata": {},
   "source": [
    "Optimize hyperparameters"
   ]
  },
  {
   "cell_type": "code",
   "execution_count": 5,
   "metadata": {},
   "outputs": [],
   "source": [
    "@dataclass\n",
    "class ModelConfig:\n",
    "    seq_len: int = 6 # max sequence length\n",
    "    #vocab_size: int = 20 # number of tokens\n",
    "    n_layer: int = 1 # number of layers\n",
    "    n_head: int = 1 # number of heads\n",
    "    #n_embd: int = 20 # embedding dimension\n",
    "    dim_feedforward: int = 2048\n",
    "    dropout: float = 0.015\n",
    "    bias: bool = False\n",
    "    layer_norm_eps: float = 1e-5\n",
    "    d_model: int = 120 # seq_len *n_embd\n",
    "    batch_size: int = 64\n",
    "    num_workers: int = 10\n",
    "\n",
    "\n",
    "def get_predictions(trainer, best_model, final_data_module, test_dataset):\n",
    "    train_predictions =trainer.predict(model=best_model, datamodule=final_data_module)\n",
    "    train_predictions=torch.concat(train_predictions).cpu().detach().numpy()\n",
    "\n",
    "    test_data_module = SeqDatasetModule(test_dataset, test_dataset, batch_size=best_model.config.batch_size, num_workers=best_model.config.num_workers)\n",
    "    test_predictions =trainer.predict(model=best_model, datamodule=test_data_module)\n",
    "    test_predictions=torch.concat(test_predictions).cpu().detach().numpy()\n",
    "\n",
    "    \n",
    "    return train_predictions, test_predictions\n",
    "\n",
    "def refit_best_model(params, train_val_dataset, test_dataset):\n",
    "\n",
    "    max_epochs=5\n",
    "    every_n_train_steps =1000\n",
    "\n",
    "    model_config = ModelConfig(**params)\n",
    "\n",
    "\n",
    "    checkpoint_callback = ModelCheckpoint(\n",
    "                                            dirpath='./best_model_logs/checkpoints/',  # directory to save checkpoints\n",
    "                                            filename=f'encoder_model-layers={model_config.n_layer}-heads={model_config.n_head}-dropout={model_config.dropout:.5f}-'+ '{epoch:02d}-{val_loss:.4f}', \n",
    "                                            save_top_k=1,  # save the best checkpoint\n",
    "                                            every_n_train_steps= every_n_train_steps\n",
    "                                            )\n",
    "    \n",
    "    best_model_logger = CSVLogger(\"best_model_logs\")\n",
    "\n",
    "    final_data_module = SeqDatasetModule(train_val_dataset, test_dataset, batch_size=model_config.batch_size, num_workers=model_config.num_workers)\n",
    "\n",
    "    best_model = SequenceEncoder(model_config)\n",
    "    trainer = L.Trainer( callbacks=[checkpoint_callback], logger=best_model_logger, max_epochs=max_epochs)\n",
    "    trainer.fit(model=best_model, datamodule=final_data_module)\n",
    "    \n",
    "    latest_checkpoint_path = checkpoint_callback.best_model_path\n",
    "    print(f'Best checkpoint path: {latest_checkpoint_path}')\n",
    "\n",
    "    trainer.test(model=best_model, datamodule=final_data_module)\n",
    "\n",
    "    print(\"predicting label probabilities\")\n",
    "\n",
    "    train_predictions, test_predictions= get_predictions(trainer, best_model, final_data_module, test_dataset)\n",
    "\n",
    "    return train_predictions, test_predictions\n",
    "\n",
    "\n",
    "\n",
    "def optimize_models(train_val_dataset, n_trials, timeout=1000, n_startup_trials=2, max_epochs=5):    \n",
    "\n",
    "    def objective(trial):\n",
    "\n",
    "        model_config = ModelConfig()\n",
    "\n",
    "\n",
    "        #model_config.n_layer = trial.suggest_int(\"n_layer\", 1, 2, step=1)\n",
    "        #model_config.n_head =  trial.suggest_int(\"n_head\", 2, 4, step=2)\n",
    "        model_config.dropout=trial.suggest_float('dropout', 0.0023, 0.0025)\n",
    "     \n",
    "        \n",
    "        train_dataset, val_dataset = train_test_split(train_val_dataset, test_size=0.2)\n",
    "        \n",
    "        data_module = SeqDatasetModule(train_dataset, val_dataset, \n",
    "                                    batch_size=model_config.batch_size, \n",
    "                                    num_workers=model_config.num_workers)\n",
    "\n",
    "        model = SequenceEncoder(model_config)\n",
    "        # train model\n",
    "        logger = CSVLogger(\"logs\")\n",
    "        trainer = L.Trainer(\n",
    "            logger=logger,\n",
    "            max_epochs=max_epochs,\n",
    "            callbacks=[PyTorchLightningPruningCallback(trial, monitor=\"val_loss\")])\n",
    "\n",
    "        # hyperparameters = dict(num_layers=num_layers, dropout_prob=dropout_prob, num_heads=nhead)\n",
    "        # trainer.logger.log_hyperparams(hyperparameters)\n",
    "        \n",
    "        # Train the model.\n",
    "        #with mlflow.start_run() as run:\n",
    "        trainer.fit(model=model, datamodule=data_module )\n",
    "        val_loss=trainer.callback_metrics[\"val_loss\"].item()\n",
    "\n",
    "        return val_loss\n",
    "\n",
    "    pruner = optuna.pruners.MedianPruner(n_startup_trials=n_startup_trials)\n",
    "\n",
    "    study = optuna.create_study(direction=\"minimize\", \n",
    "                                storage=\"sqlite:///db.sqlite3\",\n",
    "                                pruner=pruner)\n",
    "    study.optimize(objective, n_trials=n_trials, timeout=timeout)\n",
    "\n",
    "    return study\n"
   ]
  },
  {
   "cell_type": "code",
   "execution_count": 6,
   "metadata": {},
   "outputs": [
    {
     "name": "stderr",
     "output_type": "stream",
     "text": [
      "[I 2024-06-25 10:56:30,590] A new study created in RDB with name: no-name-995e7bfc-edcb-4321-b47f-48de1f270406\n",
      "GPU available: True (cuda), used: True\n",
      "TPU available: False, using: 0 TPU cores\n",
      "IPU available: False, using: 0 IPUs\n",
      "HPU available: False, using: 0 HPUs\n",
      "LOCAL_RANK: 0 - CUDA_VISIBLE_DEVICES: [0]\n",
      "\n",
      "  | Name  | Type                | Params\n",
      "----------------------------------------------\n",
      "0 | model | SequenceTransformer | 549 K \n",
      "----------------------------------------------\n",
      "549 K     Trainable params\n",
      "0         Non-trainable params\n",
      "549 K     Total params\n",
      "2.198     Total estimated model params size (MB)\n"
     ]
    },
    {
     "data": {
      "application/vnd.jupyter.widget-view+json": {
       "model_id": "b62e674f0d2b43d6b0a86a3f2a5e924f",
       "version_major": 2,
       "version_minor": 0
      },
      "text/plain": [
       "Sanity Checking: |          | 0/? [00:00<?, ?it/s]"
      ]
     },
     "metadata": {},
     "output_type": "display_data"
    },
    {
     "data": {
      "application/vnd.jupyter.widget-view+json": {
       "model_id": "2e4c14f9476b4d039fc8414d5aa4c706",
       "version_major": 2,
       "version_minor": 0
      },
      "text/plain": [
       "Training: |          | 0/? [00:00<?, ?it/s]"
      ]
     },
     "metadata": {},
     "output_type": "display_data"
    },
    {
     "data": {
      "application/vnd.jupyter.widget-view+json": {
       "model_id": "ed2d8f46a8384f178ec588a5e7729b6d",
       "version_major": 2,
       "version_minor": 0
      },
      "text/plain": [
       "Validation: |          | 0/? [00:00<?, ?it/s]"
      ]
     },
     "metadata": {},
     "output_type": "display_data"
    },
    {
     "data": {
      "application/vnd.jupyter.widget-view+json": {
       "model_id": "2c3efe9ed95f4f5db0de5396d9b024a0",
       "version_major": 2,
       "version_minor": 0
      },
      "text/plain": [
       "Validation: |          | 0/? [00:00<?, ?it/s]"
      ]
     },
     "metadata": {},
     "output_type": "display_data"
    },
    {
     "data": {
      "application/vnd.jupyter.widget-view+json": {
       "model_id": "d60b76ef9db2467fba56183b471adbcd",
       "version_major": 2,
       "version_minor": 0
      },
      "text/plain": [
       "Validation: |          | 0/? [00:00<?, ?it/s]"
      ]
     },
     "metadata": {},
     "output_type": "display_data"
    },
    {
     "data": {
      "application/vnd.jupyter.widget-view+json": {
       "model_id": "d3f28bf2a09b4978b82fb0ad75a02f1e",
       "version_major": 2,
       "version_minor": 0
      },
      "text/plain": [
       "Validation: |          | 0/? [00:00<?, ?it/s]"
      ]
     },
     "metadata": {},
     "output_type": "display_data"
    },
    {
     "data": {
      "application/vnd.jupyter.widget-view+json": {
       "model_id": "cb6405fefe80430bbab077ae9a90b642",
       "version_major": 2,
       "version_minor": 0
      },
      "text/plain": [
       "Validation: |          | 0/? [00:00<?, ?it/s]"
      ]
     },
     "metadata": {},
     "output_type": "display_data"
    },
    {
     "name": "stderr",
     "output_type": "stream",
     "text": [
      "`Trainer.fit` stopped: `max_epochs=5` reached.\n",
      "[I 2024-06-25 10:58:25,679] Trial 0 finished with value: 0.0012378619285300374 and parameters: {'dropout': 0.0024217735400829743}. Best is trial 0 with value: 0.0012378619285300374.\n",
      "GPU available: True (cuda), used: True\n",
      "TPU available: False, using: 0 TPU cores\n",
      "IPU available: False, using: 0 IPUs\n",
      "HPU available: False, using: 0 HPUs\n",
      "LOCAL_RANK: 0 - CUDA_VISIBLE_DEVICES: [0]\n",
      "\n",
      "  | Name  | Type                | Params\n",
      "----------------------------------------------\n",
      "0 | model | SequenceTransformer | 549 K \n",
      "----------------------------------------------\n",
      "549 K     Trainable params\n",
      "0         Non-trainable params\n",
      "549 K     Total params\n",
      "2.198     Total estimated model params size (MB)\n"
     ]
    },
    {
     "data": {
      "application/vnd.jupyter.widget-view+json": {
       "model_id": "0b38d8eddd3a4ca0b1abdb5e39536d25",
       "version_major": 2,
       "version_minor": 0
      },
      "text/plain": [
       "Sanity Checking: |          | 0/? [00:00<?, ?it/s]"
      ]
     },
     "metadata": {},
     "output_type": "display_data"
    },
    {
     "data": {
      "application/vnd.jupyter.widget-view+json": {
       "model_id": "90d500afb2194e4f8c66f0558770758d",
       "version_major": 2,
       "version_minor": 0
      },
      "text/plain": [
       "Training: |          | 0/? [00:00<?, ?it/s]"
      ]
     },
     "metadata": {},
     "output_type": "display_data"
    },
    {
     "data": {
      "application/vnd.jupyter.widget-view+json": {
       "model_id": "970abc4d31f24946baf03213ee6cd613",
       "version_major": 2,
       "version_minor": 0
      },
      "text/plain": [
       "Validation: |          | 0/? [00:00<?, ?it/s]"
      ]
     },
     "metadata": {},
     "output_type": "display_data"
    },
    {
     "data": {
      "application/vnd.jupyter.widget-view+json": {
       "model_id": "b694553558164472a46cf9e3a34f7762",
       "version_major": 2,
       "version_minor": 0
      },
      "text/plain": [
       "Validation: |          | 0/? [00:00<?, ?it/s]"
      ]
     },
     "metadata": {},
     "output_type": "display_data"
    },
    {
     "data": {
      "application/vnd.jupyter.widget-view+json": {
       "model_id": "2f04d2d3c7ea4c47aeb4480ff268afcc",
       "version_major": 2,
       "version_minor": 0
      },
      "text/plain": [
       "Validation: |          | 0/? [00:00<?, ?it/s]"
      ]
     },
     "metadata": {},
     "output_type": "display_data"
    },
    {
     "data": {
      "application/vnd.jupyter.widget-view+json": {
       "model_id": "af692ccc90b6407cbea3b575a66ba75b",
       "version_major": 2,
       "version_minor": 0
      },
      "text/plain": [
       "Validation: |          | 0/? [00:00<?, ?it/s]"
      ]
     },
     "metadata": {},
     "output_type": "display_data"
    },
    {
     "data": {
      "application/vnd.jupyter.widget-view+json": {
       "model_id": "07c58b47099b41b09636831545e0e2dd",
       "version_major": 2,
       "version_minor": 0
      },
      "text/plain": [
       "Validation: |          | 0/? [00:00<?, ?it/s]"
      ]
     },
     "metadata": {},
     "output_type": "display_data"
    },
    {
     "name": "stderr",
     "output_type": "stream",
     "text": [
      "`Trainer.fit` stopped: `max_epochs=5` reached.\n",
      "[I 2024-06-25 11:00:16,988] Trial 1 finished with value: 0.0024394700303673744 and parameters: {'dropout': 0.0024713488075353896}. Best is trial 0 with value: 0.0012378619285300374.\n",
      "GPU available: True (cuda), used: True\n",
      "TPU available: False, using: 0 TPU cores\n",
      "IPU available: False, using: 0 IPUs\n",
      "HPU available: False, using: 0 HPUs\n",
      "LOCAL_RANK: 0 - CUDA_VISIBLE_DEVICES: [0]\n",
      "\n",
      "  | Name  | Type                | Params\n",
      "----------------------------------------------\n",
      "0 | model | SequenceTransformer | 549 K \n",
      "----------------------------------------------\n",
      "549 K     Trainable params\n",
      "0         Non-trainable params\n",
      "549 K     Total params\n",
      "2.198     Total estimated model params size (MB)\n"
     ]
    },
    {
     "data": {
      "application/vnd.jupyter.widget-view+json": {
       "model_id": "faa9f86ab0ca46439374caaa3fa74c3a",
       "version_major": 2,
       "version_minor": 0
      },
      "text/plain": [
       "Sanity Checking: |          | 0/? [00:00<?, ?it/s]"
      ]
     },
     "metadata": {},
     "output_type": "display_data"
    },
    {
     "data": {
      "application/vnd.jupyter.widget-view+json": {
       "model_id": "1fab0a0f3d3c4d9fa2f8bce2e7e124f1",
       "version_major": 2,
       "version_minor": 0
      },
      "text/plain": [
       "Training: |          | 0/? [00:00<?, ?it/s]"
      ]
     },
     "metadata": {},
     "output_type": "display_data"
    },
    {
     "data": {
      "application/vnd.jupyter.widget-view+json": {
       "model_id": "3b06f748f9824257a88fac8b31ced96e",
       "version_major": 2,
       "version_minor": 0
      },
      "text/plain": [
       "Validation: |          | 0/? [00:00<?, ?it/s]"
      ]
     },
     "metadata": {},
     "output_type": "display_data"
    },
    {
     "data": {
      "application/vnd.jupyter.widget-view+json": {
       "model_id": "d70d488a835345cf8e76ddf666f7fa37",
       "version_major": 2,
       "version_minor": 0
      },
      "text/plain": [
       "Validation: |          | 0/? [00:00<?, ?it/s]"
      ]
     },
     "metadata": {},
     "output_type": "display_data"
    },
    {
     "name": "stderr",
     "output_type": "stream",
     "text": [
      "[I 2024-06-25 11:01:07,109] Trial 2 pruned. Trial was pruned at epoch 1.\n"
     ]
    }
   ],
   "source": [
    "study = optimize_models(train_val_dataset, n_trials=3)"
   ]
  },
  {
   "cell_type": "code",
   "execution_count": 7,
   "metadata": {},
   "outputs": [
    {
     "name": "stdout",
     "output_type": "stream",
     "text": [
      "Number of finished trials: 3\n",
      "Best trial:\n",
      "  Value: 0.0012378619285300374\n",
      "  Params: \n",
      "    dropout: 0.0024217735400829743\n"
     ]
    }
   ],
   "source": [
    "print(\"Number of finished trials: {}\".format(len(study.trials)))\n",
    "\n",
    "print(\"Best trial:\")\n",
    "best_trial = study.best_trial\n",
    "\n",
    "print(\"  Value: {}\".format(best_trial.value))\n",
    "\n",
    "print(\"  Params: \")\n",
    "for key, value in best_trial.params.items():\n",
    "    print(\"    {}: {}\".format(key, value))\n"
   ]
  },
  {
   "cell_type": "code",
   "execution_count": 8,
   "metadata": {},
   "outputs": [
    {
     "name": "stderr",
     "output_type": "stream",
     "text": [
      "GPU available: True (cuda), used: True\n",
      "TPU available: False, using: 0 TPU cores\n",
      "IPU available: False, using: 0 IPUs\n",
      "HPU available: False, using: 0 HPUs\n",
      "LOCAL_RANK: 0 - CUDA_VISIBLE_DEVICES: [0]\n",
      "\n",
      "  | Name  | Type                | Params\n",
      "----------------------------------------------\n",
      "0 | model | SequenceTransformer | 549 K \n",
      "----------------------------------------------\n",
      "549 K     Trainable params\n",
      "0         Non-trainable params\n",
      "549 K     Total params\n",
      "2.198     Total estimated model params size (MB)\n"
     ]
    },
    {
     "data": {
      "application/vnd.jupyter.widget-view+json": {
       "model_id": "137ce18d1ce542549ff878fc1c48c995",
       "version_major": 2,
       "version_minor": 0
      },
      "text/plain": [
       "Sanity Checking: |          | 0/? [00:00<?, ?it/s]"
      ]
     },
     "metadata": {},
     "output_type": "display_data"
    },
    {
     "data": {
      "application/vnd.jupyter.widget-view+json": {
       "model_id": "cd2de889293a45b7a697e06f15ff84b1",
       "version_major": 2,
       "version_minor": 0
      },
      "text/plain": [
       "Training: |          | 0/? [00:00<?, ?it/s]"
      ]
     },
     "metadata": {},
     "output_type": "display_data"
    },
    {
     "data": {
      "application/vnd.jupyter.widget-view+json": {
       "model_id": "8333b3964cfe4a65ad451ffae861886a",
       "version_major": 2,
       "version_minor": 0
      },
      "text/plain": [
       "Validation: |          | 0/? [00:00<?, ?it/s]"
      ]
     },
     "metadata": {},
     "output_type": "display_data"
    },
    {
     "data": {
      "application/vnd.jupyter.widget-view+json": {
       "model_id": "f6a9d8d72b2d4d4696c41b83889c8c06",
       "version_major": 2,
       "version_minor": 0
      },
      "text/plain": [
       "Validation: |          | 0/? [00:00<?, ?it/s]"
      ]
     },
     "metadata": {},
     "output_type": "display_data"
    },
    {
     "data": {
      "application/vnd.jupyter.widget-view+json": {
       "model_id": "b6d3a7283aad496884807942ec66d1fa",
       "version_major": 2,
       "version_minor": 0
      },
      "text/plain": [
       "Validation: |          | 0/? [00:00<?, ?it/s]"
      ]
     },
     "metadata": {},
     "output_type": "display_data"
    },
    {
     "data": {
      "application/vnd.jupyter.widget-view+json": {
       "model_id": "3e1cc1e4b69d436ca56c20ac3c22b738",
       "version_major": 2,
       "version_minor": 0
      },
      "text/plain": [
       "Validation: |          | 0/? [00:00<?, ?it/s]"
      ]
     },
     "metadata": {},
     "output_type": "display_data"
    },
    {
     "data": {
      "application/vnd.jupyter.widget-view+json": {
       "model_id": "a061d447c5394a689cb5672fbfbccd73",
       "version_major": 2,
       "version_minor": 0
      },
      "text/plain": [
       "Validation: |          | 0/? [00:00<?, ?it/s]"
      ]
     },
     "metadata": {},
     "output_type": "display_data"
    },
    {
     "name": "stderr",
     "output_type": "stream",
     "text": [
      "`Trainer.fit` stopped: `max_epochs=5` reached.\n",
      "LOCAL_RANK: 0 - CUDA_VISIBLE_DEVICES: [0]\n"
     ]
    },
    {
     "name": "stdout",
     "output_type": "stream",
     "text": [
      "Best checkpoint path: /home/rick/hd2/Platt Lab Dropbox/Rick Farouni/sequence_models/best_model_logs/checkpoints/encoder_model-layers=1-heads=1-dropout=0.00242-epoch=04-val_loss=0.0005.ckpt\n"
     ]
    },
    {
     "data": {
      "application/vnd.jupyter.widget-view+json": {
       "model_id": "1fd433a70ed9429dac4d5e8a8f746d57",
       "version_major": 2,
       "version_minor": 0
      },
      "text/plain": [
       "Testing: |          | 0/? [00:00<?, ?it/s]"
      ]
     },
     "metadata": {},
     "output_type": "display_data"
    },
    {
     "name": "stderr",
     "output_type": "stream",
     "text": [
      "LOCAL_RANK: 0 - CUDA_VISIBLE_DEVICES: [0]\n"
     ]
    },
    {
     "name": "stdout",
     "output_type": "stream",
     "text": [
      "────────────────────────────────────────────────────────────────────────────────────────────────────────────────────────\n",
      "       Test metric             DataLoader 0\n",
      "────────────────────────────────────────────────────────────────────────────────────────────────────────────────────────\n",
      "        test_acc            0.9999621510505676\n",
      "────────────────────────────────────────────────────────────────────────────────────────────────────────────────────────\n",
      "predicting label probabilities\n"
     ]
    },
    {
     "data": {
      "application/vnd.jupyter.widget-view+json": {
       "model_id": "37a29b081ed54c16aae88dce8e474d0c",
       "version_major": 2,
       "version_minor": 0
      },
      "text/plain": [
       "Predicting: |          | 0/? [00:00<?, ?it/s]"
      ]
     },
     "metadata": {},
     "output_type": "display_data"
    },
    {
     "name": "stderr",
     "output_type": "stream",
     "text": [
      "LOCAL_RANK: 0 - CUDA_VISIBLE_DEVICES: [0]\n"
     ]
    },
    {
     "data": {
      "application/vnd.jupyter.widget-view+json": {
       "model_id": "5165b228714f4971a7d93054a58489f1",
       "version_major": 2,
       "version_minor": 0
      },
      "text/plain": [
       "Predicting: |          | 0/? [00:00<?, ?it/s]"
      ]
     },
     "metadata": {},
     "output_type": "display_data"
    }
   ],
   "source": [
    "train_predictions, test_predictions = refit_best_model(best_trial.params, train_val_dataset, test_dataset)   \n"
   ]
  },
  {
   "cell_type": "markdown",
   "metadata": {},
   "source": [
    "Assess model fit"
   ]
  },
  {
   "cell_type": "code",
   "execution_count": 9,
   "metadata": {},
   "outputs": [],
   "source": [
    "train_val_dataset.loc[:, \"pred_prob\"] = train_predictions \n",
    "test_dataset.loc[:, \"pred_prob\"] = test_predictions"
   ]
  },
  {
   "cell_type": "code",
   "execution_count": 16,
   "metadata": {},
   "outputs": [
    {
     "data": {
      "text/html": [
       "<div>\n",
       "<style scoped>\n",
       "    .dataframe tbody tr th:only-of-type {\n",
       "        vertical-align: middle;\n",
       "    }\n",
       "\n",
       "    .dataframe tbody tr th {\n",
       "        vertical-align: top;\n",
       "    }\n",
       "\n",
       "    .dataframe thead th {\n",
       "        text-align: right;\n",
       "    }\n",
       "</style>\n",
       "<table border=\"1\" class=\"dataframe\">\n",
       "  <thead>\n",
       "    <tr style=\"text-align: right;\">\n",
       "      <th></th>\n",
       "      <th>seq</th>\n",
       "      <th>label</th>\n",
       "      <th>motif</th>\n",
       "      <th>positions</th>\n",
       "      <th>mult_motifs</th>\n",
       "      <th>pred_prob</th>\n",
       "      <th>split</th>\n",
       "    </tr>\n",
       "  </thead>\n",
       "  <tbody>\n",
       "    <tr>\n",
       "      <th>238782</th>\n",
       "      <td>PGNGRG</td>\n",
       "      <td>0</td>\n",
       "      <td>.G.GR.</td>\n",
       "      <td>(0, 2, 5)</td>\n",
       "      <td>0</td>\n",
       "      <td>0.000008</td>\n",
       "      <td>test</td>\n",
       "    </tr>\n",
       "    <tr>\n",
       "      <th>69243</th>\n",
       "      <td>CRTKAQ</td>\n",
       "      <td>1</td>\n",
       "      <td>C...AQ</td>\n",
       "      <td>(1, 2, 3)</td>\n",
       "      <td>0</td>\n",
       "      <td>0.999996</td>\n",
       "      <td>test</td>\n",
       "    </tr>\n",
       "    <tr>\n",
       "      <th>277252</th>\n",
       "      <td>QRSPML</td>\n",
       "      <td>0</td>\n",
       "      <td>QRS...</td>\n",
       "      <td>(3, 4, 5)</td>\n",
       "      <td>0</td>\n",
       "      <td>0.000068</td>\n",
       "      <td>test</td>\n",
       "    </tr>\n",
       "    <tr>\n",
       "      <th>311511</th>\n",
       "      <td>SDWCCW</td>\n",
       "      <td>1</td>\n",
       "      <td>SDW...</td>\n",
       "      <td>(3, 4, 5)</td>\n",
       "      <td>0</td>\n",
       "      <td>0.999995</td>\n",
       "      <td>test</td>\n",
       "    </tr>\n",
       "    <tr>\n",
       "      <th>280503</th>\n",
       "      <td>QSDCWW</td>\n",
       "      <td>1</td>\n",
       "      <td>..DCW.</td>\n",
       "      <td>(0, 1, 5)</td>\n",
       "      <td>0</td>\n",
       "      <td>0.999996</td>\n",
       "      <td>test</td>\n",
       "    </tr>\n",
       "    <tr>\n",
       "      <th>...</th>\n",
       "      <td>...</td>\n",
       "      <td>...</td>\n",
       "      <td>...</td>\n",
       "      <td>...</td>\n",
       "      <td>...</td>\n",
       "      <td>...</td>\n",
       "      <td>...</td>\n",
       "    </tr>\n",
       "    <tr>\n",
       "      <th>216596</th>\n",
       "      <td>MELPQS</td>\n",
       "      <td>0</td>\n",
       "      <td>..LP.S</td>\n",
       "      <td>(0, 1, 4)</td>\n",
       "      <td>0</td>\n",
       "      <td>0.000014</td>\n",
       "      <td>test</td>\n",
       "    </tr>\n",
       "    <tr>\n",
       "      <th>83895</th>\n",
       "      <td>DMDAAQ</td>\n",
       "      <td>1</td>\n",
       "      <td>D.DA..</td>\n",
       "      <td>(1, 4, 5)</td>\n",
       "      <td>0</td>\n",
       "      <td>0.999991</td>\n",
       "      <td>test</td>\n",
       "    </tr>\n",
       "    <tr>\n",
       "      <th>293577</th>\n",
       "      <td>RILYRR</td>\n",
       "      <td>0</td>\n",
       "      <td>R...RR</td>\n",
       "      <td>(1, 2, 3)</td>\n",
       "      <td>0</td>\n",
       "      <td>0.000010</td>\n",
       "      <td>test</td>\n",
       "    </tr>\n",
       "    <tr>\n",
       "      <th>254469</th>\n",
       "      <td>PRMERL</td>\n",
       "      <td>0</td>\n",
       "      <td>P...RL</td>\n",
       "      <td>(1, 2, 3)</td>\n",
       "      <td>0</td>\n",
       "      <td>0.000003</td>\n",
       "      <td>test</td>\n",
       "    </tr>\n",
       "    <tr>\n",
       "      <th>68647</th>\n",
       "      <td>CRIMAQ</td>\n",
       "      <td>1</td>\n",
       "      <td>C...AQ</td>\n",
       "      <td>(1, 2, 3)</td>\n",
       "      <td>0</td>\n",
       "      <td>0.999993</td>\n",
       "      <td>test</td>\n",
       "    </tr>\n",
       "  </tbody>\n",
       "</table>\n",
       "<p>79262 rows × 7 columns</p>\n",
       "</div>"
      ],
      "text/plain": [
       "           seq  label   motif  positions  mult_motifs  pred_prob split\n",
       "238782  PGNGRG      0  .G.GR.  (0, 2, 5)            0   0.000008  test\n",
       "69243   CRTKAQ      1  C...AQ  (1, 2, 3)            0   0.999996  test\n",
       "277252  QRSPML      0  QRS...  (3, 4, 5)            0   0.000068  test\n",
       "311511  SDWCCW      1  SDW...  (3, 4, 5)            0   0.999995  test\n",
       "280503  QSDCWW      1  ..DCW.  (0, 1, 5)            0   0.999996  test\n",
       "...        ...    ...     ...        ...          ...        ...   ...\n",
       "216596  MELPQS      0  ..LP.S  (0, 1, 4)            0   0.000014  test\n",
       "83895   DMDAAQ      1  D.DA..  (1, 4, 5)            0   0.999991  test\n",
       "293577  RILYRR      0  R...RR  (1, 2, 3)            0   0.000010  test\n",
       "254469  PRMERL      0  P...RL  (1, 2, 3)            0   0.000003  test\n",
       "68647   CRIMAQ      1  C...AQ  (1, 2, 3)            0   0.999993  test\n",
       "\n",
       "[79262 rows x 7 columns]"
      ]
     },
     "execution_count": 16,
     "metadata": {},
     "output_type": "execute_result"
    }
   ],
   "source": [
    "test_dataset"
   ]
  },
  {
   "cell_type": "code",
   "execution_count": 10,
   "metadata": {},
   "outputs": [
    {
     "data": {
      "text/html": [
       "<div>\n",
       "<style scoped>\n",
       "    .dataframe tbody tr th:only-of-type {\n",
       "        vertical-align: middle;\n",
       "    }\n",
       "\n",
       "    .dataframe tbody tr th {\n",
       "        vertical-align: top;\n",
       "    }\n",
       "\n",
       "    .dataframe thead th {\n",
       "        text-align: right;\n",
       "    }\n",
       "</style>\n",
       "<table border=\"1\" class=\"dataframe\">\n",
       "  <thead>\n",
       "    <tr style=\"text-align: right;\">\n",
       "      <th></th>\n",
       "      <th>seq</th>\n",
       "      <th>label</th>\n",
       "      <th>motif</th>\n",
       "      <th>positions</th>\n",
       "      <th>mult_motifs</th>\n",
       "      <th>pred_prob</th>\n",
       "      <th>pred_label</th>\n",
       "    </tr>\n",
       "  </thead>\n",
       "  <tbody>\n",
       "    <tr>\n",
       "      <th>220058</th>\n",
       "      <td>MPRAQG</td>\n",
       "      <td>1</td>\n",
       "      <td>.P.AQ.</td>\n",
       "      <td>(0, 2, 5)</td>\n",
       "      <td>0</td>\n",
       "      <td>0.186599</td>\n",
       "      <td>0</td>\n",
       "    </tr>\n",
       "    <tr>\n",
       "      <th>277849</th>\n",
       "      <td>QRSRAH</td>\n",
       "      <td>0</td>\n",
       "      <td>QRS...</td>\n",
       "      <td>(3, 4, 5)</td>\n",
       "      <td>1</td>\n",
       "      <td>0.550950</td>\n",
       "      <td>1</td>\n",
       "    </tr>\n",
       "    <tr>\n",
       "      <th>53433</th>\n",
       "      <td>CDRPAQ</td>\n",
       "      <td>1</td>\n",
       "      <td>C...AQ</td>\n",
       "      <td>(1, 2, 3)</td>\n",
       "      <td>0</td>\n",
       "      <td>0.223282</td>\n",
       "      <td>0</td>\n",
       "    </tr>\n",
       "    <tr>\n",
       "      <th>377113</th>\n",
       "      <td>WPRAQC</td>\n",
       "      <td>1</td>\n",
       "      <td>.P.AQ.</td>\n",
       "      <td>(0, 2, 5)</td>\n",
       "      <td>0</td>\n",
       "      <td>0.043108</td>\n",
       "      <td>0</td>\n",
       "    </tr>\n",
       "    <tr>\n",
       "      <th>377391</th>\n",
       "      <td>WPWAQA</td>\n",
       "      <td>1</td>\n",
       "      <td>.P.AQ.</td>\n",
       "      <td>(0, 2, 5)</td>\n",
       "      <td>0</td>\n",
       "      <td>0.339056</td>\n",
       "      <td>0</td>\n",
       "    </tr>\n",
       "    <tr>\n",
       "      <th>278214</th>\n",
       "      <td>QRSRWN</td>\n",
       "      <td>0</td>\n",
       "      <td>QRS...</td>\n",
       "      <td>(3, 4, 5)</td>\n",
       "      <td>0</td>\n",
       "      <td>0.509417</td>\n",
       "      <td>1</td>\n",
       "    </tr>\n",
       "    <tr>\n",
       "      <th>277860</th>\n",
       "      <td>QRSRAV</td>\n",
       "      <td>0</td>\n",
       "      <td>QRS...</td>\n",
       "      <td>(3, 4, 5)</td>\n",
       "      <td>1</td>\n",
       "      <td>0.534969</td>\n",
       "      <td>1</td>\n",
       "    </tr>\n",
       "    <tr>\n",
       "      <th>251481</th>\n",
       "      <td>PQRPRR</td>\n",
       "      <td>1</td>\n",
       "      <td>PQ.P..</td>\n",
       "      <td>(2, 4, 5)</td>\n",
       "      <td>0</td>\n",
       "      <td>0.227421</td>\n",
       "      <td>0</td>\n",
       "    </tr>\n",
       "    <tr>\n",
       "      <th>269597</th>\n",
       "      <td>QPRAQC</td>\n",
       "      <td>1</td>\n",
       "      <td>.P.AQ.</td>\n",
       "      <td>(0, 2, 5)</td>\n",
       "      <td>0</td>\n",
       "      <td>0.315540</td>\n",
       "      <td>0</td>\n",
       "    </tr>\n",
       "    <tr>\n",
       "      <th>269601</th>\n",
       "      <td>QPRAQG</td>\n",
       "      <td>1</td>\n",
       "      <td>.P.AQ.</td>\n",
       "      <td>(0, 2, 5)</td>\n",
       "      <td>0</td>\n",
       "      <td>0.307436</td>\n",
       "      <td>0</td>\n",
       "    </tr>\n",
       "    <tr>\n",
       "      <th>277844</th>\n",
       "      <td>QRSRAC</td>\n",
       "      <td>0</td>\n",
       "      <td>QRS...</td>\n",
       "      <td>(3, 4, 5)</td>\n",
       "      <td>1</td>\n",
       "      <td>0.982987</td>\n",
       "      <td>1</td>\n",
       "    </tr>\n",
       "    <tr>\n",
       "      <th>150110</th>\n",
       "      <td>GWDCWL</td>\n",
       "      <td>0</td>\n",
       "      <td>G.D.W.</td>\n",
       "      <td>(1, 3, 5)</td>\n",
       "      <td>1</td>\n",
       "      <td>0.912969</td>\n",
       "      <td>1</td>\n",
       "    </tr>\n",
       "    <tr>\n",
       "      <th>153619</th>\n",
       "      <td>GWLCSW</td>\n",
       "      <td>0</td>\n",
       "      <td>..LCS.</td>\n",
       "      <td>(0, 1, 5)</td>\n",
       "      <td>1</td>\n",
       "      <td>0.992917</td>\n",
       "      <td>1</td>\n",
       "    </tr>\n",
       "    <tr>\n",
       "      <th>378169</th>\n",
       "      <td>WQLDWA</td>\n",
       "      <td>0</td>\n",
       "      <td>W...WA</td>\n",
       "      <td>(1, 2, 3)</td>\n",
       "      <td>1</td>\n",
       "      <td>0.511361</td>\n",
       "      <td>1</td>\n",
       "    </tr>\n",
       "    <tr>\n",
       "      <th>277858</th>\n",
       "      <td>QRSRAS</td>\n",
       "      <td>0</td>\n",
       "      <td>QRS...</td>\n",
       "      <td>(3, 4, 5)</td>\n",
       "      <td>1</td>\n",
       "      <td>0.999221</td>\n",
       "      <td>1</td>\n",
       "    </tr>\n",
       "    <tr>\n",
       "      <th>274617</th>\n",
       "      <td>QRSGWR</td>\n",
       "      <td>0</td>\n",
       "      <td>QRS...</td>\n",
       "      <td>(3, 4, 5)</td>\n",
       "      <td>1</td>\n",
       "      <td>0.786123</td>\n",
       "      <td>1</td>\n",
       "    </tr>\n",
       "    <tr>\n",
       "      <th>332177</th>\n",
       "      <td>TPRAQG</td>\n",
       "      <td>1</td>\n",
       "      <td>.P.AQ.</td>\n",
       "      <td>(0, 2, 5)</td>\n",
       "      <td>0</td>\n",
       "      <td>0.367532</td>\n",
       "      <td>0</td>\n",
       "    </tr>\n",
       "    <tr>\n",
       "      <th>288197</th>\n",
       "      <td>RDSGRR</td>\n",
       "      <td>0</td>\n",
       "      <td>R...RR</td>\n",
       "      <td>(1, 2, 3)</td>\n",
       "      <td>1</td>\n",
       "      <td>0.504912</td>\n",
       "      <td>1</td>\n",
       "    </tr>\n",
       "    <tr>\n",
       "      <th>34160</th>\n",
       "      <td>APRAQC</td>\n",
       "      <td>1</td>\n",
       "      <td>.P.AQ.</td>\n",
       "      <td>(0, 2, 5)</td>\n",
       "      <td>0</td>\n",
       "      <td>0.080276</td>\n",
       "      <td>0</td>\n",
       "    </tr>\n",
       "    <tr>\n",
       "      <th>153602</th>\n",
       "      <td>GWLCSC</td>\n",
       "      <td>0</td>\n",
       "      <td>..LCS.</td>\n",
       "      <td>(0, 1, 5)</td>\n",
       "      <td>1</td>\n",
       "      <td>0.927949</td>\n",
       "      <td>1</td>\n",
       "    </tr>\n",
       "    <tr>\n",
       "      <th>251482</th>\n",
       "      <td>PQRPRS</td>\n",
       "      <td>1</td>\n",
       "      <td>PQ.P..</td>\n",
       "      <td>(2, 4, 5)</td>\n",
       "      <td>0</td>\n",
       "      <td>0.278276</td>\n",
       "      <td>0</td>\n",
       "    </tr>\n",
       "  </tbody>\n",
       "</table>\n",
       "</div>"
      ],
      "text/plain": [
       "           seq  label   motif  positions  mult_motifs  pred_prob  pred_label\n",
       "220058  MPRAQG      1  .P.AQ.  (0, 2, 5)            0   0.186599           0\n",
       "277849  QRSRAH      0  QRS...  (3, 4, 5)            1   0.550950           1\n",
       "53433   CDRPAQ      1  C...AQ  (1, 2, 3)            0   0.223282           0\n",
       "377113  WPRAQC      1  .P.AQ.  (0, 2, 5)            0   0.043108           0\n",
       "377391  WPWAQA      1  .P.AQ.  (0, 2, 5)            0   0.339056           0\n",
       "278214  QRSRWN      0  QRS...  (3, 4, 5)            0   0.509417           1\n",
       "277860  QRSRAV      0  QRS...  (3, 4, 5)            1   0.534969           1\n",
       "251481  PQRPRR      1  PQ.P..  (2, 4, 5)            0   0.227421           0\n",
       "269597  QPRAQC      1  .P.AQ.  (0, 2, 5)            0   0.315540           0\n",
       "269601  QPRAQG      1  .P.AQ.  (0, 2, 5)            0   0.307436           0\n",
       "277844  QRSRAC      0  QRS...  (3, 4, 5)            1   0.982987           1\n",
       "150110  GWDCWL      0  G.D.W.  (1, 3, 5)            1   0.912969           1\n",
       "153619  GWLCSW      0  ..LCS.  (0, 1, 5)            1   0.992917           1\n",
       "378169  WQLDWA      0  W...WA  (1, 2, 3)            1   0.511361           1\n",
       "277858  QRSRAS      0  QRS...  (3, 4, 5)            1   0.999221           1\n",
       "274617  QRSGWR      0  QRS...  (3, 4, 5)            1   0.786123           1\n",
       "332177  TPRAQG      1  .P.AQ.  (0, 2, 5)            0   0.367532           0\n",
       "288197  RDSGRR      0  R...RR  (1, 2, 3)            1   0.504912           1\n",
       "34160   APRAQC      1  .P.AQ.  (0, 2, 5)            0   0.080276           0\n",
       "153602  GWLCSC      0  ..LCS.  (0, 1, 5)            1   0.927949           1\n",
       "251482  PQRPRS      1  PQ.P..  (2, 4, 5)            0   0.278276           0"
      ]
     },
     "execution_count": 10,
     "metadata": {},
     "output_type": "execute_result"
    }
   ],
   "source": [
    "train_val_dataset['pred_label'] = (train_val_dataset['pred_prob'] > 0.5).astype(int)\n",
    "filtered_train_val_dataset = train_val_dataset[train_val_dataset['label'] != train_val_dataset['pred_label']]\n",
    "filtered_train_val_dataset"
   ]
  },
  {
   "cell_type": "code",
   "execution_count": 17,
   "metadata": {},
   "outputs": [
    {
     "data": {
      "text/html": [
       "<div>\n",
       "<style scoped>\n",
       "    .dataframe tbody tr th:only-of-type {\n",
       "        vertical-align: middle;\n",
       "    }\n",
       "\n",
       "    .dataframe tbody tr th {\n",
       "        vertical-align: top;\n",
       "    }\n",
       "\n",
       "    .dataframe thead th {\n",
       "        text-align: right;\n",
       "    }\n",
       "</style>\n",
       "<table border=\"1\" class=\"dataframe\">\n",
       "  <thead>\n",
       "    <tr style=\"text-align: right;\">\n",
       "      <th></th>\n",
       "      <th>seq</th>\n",
       "      <th>label</th>\n",
       "      <th>motif</th>\n",
       "      <th>positions</th>\n",
       "      <th>mult_motifs</th>\n",
       "      <th>pred_prob</th>\n",
       "      <th>split</th>\n",
       "      <th>pred_label</th>\n",
       "    </tr>\n",
       "  </thead>\n",
       "  <tbody>\n",
       "    <tr>\n",
       "      <th>34164</th>\n",
       "      <td>APRAQG</td>\n",
       "      <td>1</td>\n",
       "      <td>.P.AQ.</td>\n",
       "      <td>(0, 2, 5)</td>\n",
       "      <td>0</td>\n",
       "      <td>0.382034</td>\n",
       "      <td>test</td>\n",
       "      <td>0</td>\n",
       "    </tr>\n",
       "    <tr>\n",
       "      <th>278218</th>\n",
       "      <td>QRSRWS</td>\n",
       "      <td>0</td>\n",
       "      <td>QRS...</td>\n",
       "      <td>(3, 4, 5)</td>\n",
       "      <td>1</td>\n",
       "      <td>0.956633</td>\n",
       "      <td>test</td>\n",
       "      <td>1</td>\n",
       "    </tr>\n",
       "    <tr>\n",
       "      <th>2526</th>\n",
       "      <td>AAWSDW</td>\n",
       "      <td>0</td>\n",
       "      <td>.A.SD.</td>\n",
       "      <td>(0, 2, 5)</td>\n",
       "      <td>1</td>\n",
       "      <td>0.870069</td>\n",
       "      <td>test</td>\n",
       "      <td>1</td>\n",
       "    </tr>\n",
       "  </tbody>\n",
       "</table>\n",
       "</div>"
      ],
      "text/plain": [
       "           seq  label   motif  positions  mult_motifs  pred_prob split  \\\n",
       "34164   APRAQG      1  .P.AQ.  (0, 2, 5)            0   0.382034  test   \n",
       "278218  QRSRWS      0  QRS...  (3, 4, 5)            1   0.956633  test   \n",
       "2526    AAWSDW      0  .A.SD.  (0, 2, 5)            1   0.870069  test   \n",
       "\n",
       "        pred_label  \n",
       "34164            0  \n",
       "278218           1  \n",
       "2526             1  "
      ]
     },
     "execution_count": 17,
     "metadata": {},
     "output_type": "execute_result"
    }
   ],
   "source": [
    "test_dataset['pred_label'] = (test_dataset['pred_prob'] > 0.5).astype(int)\n",
    "filtered_test_dataset = test_dataset[test_dataset['label'] != test_dataset['pred_label']]\n",
    "filtered_test_dataset"
   ]
  },
  {
   "cell_type": "code",
   "execution_count": 18,
   "metadata": {},
   "outputs": [
    {
     "data": {
      "text/plain": [
       "tensor([[159551,     11],\n",
       "        [    10, 157474]])"
      ]
     },
     "execution_count": 18,
     "metadata": {},
     "output_type": "execute_result"
    }
   ],
   "source": [
    "binary_confusion_matrix(torch.tensor(train_val_dataset['pred_prob'].values), torch.tensor(train_val_dataset['label'].values))"
   ]
  },
  {
   "cell_type": "code",
   "execution_count": 19,
   "metadata": {},
   "outputs": [
    {
     "data": {
      "text/plain": [
       "tensor([[39697,     2],\n",
       "        [    1, 39562]])"
      ]
     },
     "execution_count": 19,
     "metadata": {},
     "output_type": "execute_result"
    }
   ],
   "source": [
    "binary_confusion_matrix(torch.tensor(test_dataset['pred_prob'].values), torch.tensor(test_dataset['label'].values))"
   ]
  },
  {
   "cell_type": "code",
   "execution_count": 12,
   "metadata": {},
   "outputs": [
    {
     "data": {
      "text/plain": [
       "0.002392348637241081"
      ]
     },
     "execution_count": 12,
     "metadata": {},
     "output_type": "execute_result"
    }
   ],
   "source": [
    " 0.002392348637241081"
   ]
  },
  {
   "cell_type": "markdown",
   "metadata": {},
   "source": [
    "Save data with predictions"
   ]
  },
  {
   "cell_type": "code",
   "execution_count": 20,
   "metadata": {},
   "outputs": [
    {
     "data": {
      "text/html": [
       "<div>\n",
       "<style scoped>\n",
       "    .dataframe tbody tr th:only-of-type {\n",
       "        vertical-align: middle;\n",
       "    }\n",
       "\n",
       "    .dataframe tbody tr th {\n",
       "        vertical-align: top;\n",
       "    }\n",
       "\n",
       "    .dataframe thead th {\n",
       "        text-align: right;\n",
       "    }\n",
       "</style>\n",
       "<table border=\"1\" class=\"dataframe\">\n",
       "  <thead>\n",
       "    <tr style=\"text-align: right;\">\n",
       "      <th></th>\n",
       "      <th>seq</th>\n",
       "      <th>label</th>\n",
       "      <th>motif</th>\n",
       "      <th>positions</th>\n",
       "      <th>mult_motifs</th>\n",
       "      <th>pred_prob</th>\n",
       "      <th>pred_label</th>\n",
       "      <th>split</th>\n",
       "    </tr>\n",
       "  </thead>\n",
       "  <tbody>\n",
       "    <tr>\n",
       "      <th>194320</th>\n",
       "      <td>KRASAM</td>\n",
       "      <td>1</td>\n",
       "      <td>..ASA.</td>\n",
       "      <td>(0, 1, 5)</td>\n",
       "      <td>0</td>\n",
       "      <td>0.999998</td>\n",
       "      <td>1</td>\n",
       "      <td>train</td>\n",
       "    </tr>\n",
       "    <tr>\n",
       "      <th>193740</th>\n",
       "      <td>KQQDKA</td>\n",
       "      <td>0</td>\n",
       "      <td>..QD.A</td>\n",
       "      <td>(0, 1, 4)</td>\n",
       "      <td>0</td>\n",
       "      <td>0.000013</td>\n",
       "      <td>0</td>\n",
       "      <td>train</td>\n",
       "    </tr>\n",
       "    <tr>\n",
       "      <th>378379</th>\n",
       "      <td>WQLPMS</td>\n",
       "      <td>0</td>\n",
       "      <td>..LP.S</td>\n",
       "      <td>(0, 1, 4)</td>\n",
       "      <td>0</td>\n",
       "      <td>0.000092</td>\n",
       "      <td>0</td>\n",
       "      <td>train</td>\n",
       "    </tr>\n",
       "    <tr>\n",
       "      <th>71416</th>\n",
       "      <td>CTSRAN</td>\n",
       "      <td>1</td>\n",
       "      <td>..SRA.</td>\n",
       "      <td>(0, 1, 5)</td>\n",
       "      <td>0</td>\n",
       "      <td>0.999993</td>\n",
       "      <td>1</td>\n",
       "      <td>train</td>\n",
       "    </tr>\n",
       "    <tr>\n",
       "      <th>214519</th>\n",
       "      <td>MASAHQ</td>\n",
       "      <td>1</td>\n",
       "      <td>.AS..Q</td>\n",
       "      <td>(0, 3, 4)</td>\n",
       "      <td>0</td>\n",
       "      <td>0.999987</td>\n",
       "      <td>1</td>\n",
       "      <td>train</td>\n",
       "    </tr>\n",
       "    <tr>\n",
       "      <th>...</th>\n",
       "      <td>...</td>\n",
       "      <td>...</td>\n",
       "      <td>...</td>\n",
       "      <td>...</td>\n",
       "      <td>...</td>\n",
       "      <td>...</td>\n",
       "      <td>...</td>\n",
       "      <td>...</td>\n",
       "    </tr>\n",
       "    <tr>\n",
       "      <th>216596</th>\n",
       "      <td>MELPQS</td>\n",
       "      <td>0</td>\n",
       "      <td>..LP.S</td>\n",
       "      <td>(0, 1, 4)</td>\n",
       "      <td>0</td>\n",
       "      <td>0.000014</td>\n",
       "      <td>0</td>\n",
       "      <td>test</td>\n",
       "    </tr>\n",
       "    <tr>\n",
       "      <th>83895</th>\n",
       "      <td>DMDAAQ</td>\n",
       "      <td>1</td>\n",
       "      <td>D.DA..</td>\n",
       "      <td>(1, 4, 5)</td>\n",
       "      <td>0</td>\n",
       "      <td>0.999991</td>\n",
       "      <td>1</td>\n",
       "      <td>test</td>\n",
       "    </tr>\n",
       "    <tr>\n",
       "      <th>293577</th>\n",
       "      <td>RILYRR</td>\n",
       "      <td>0</td>\n",
       "      <td>R...RR</td>\n",
       "      <td>(1, 2, 3)</td>\n",
       "      <td>0</td>\n",
       "      <td>0.000010</td>\n",
       "      <td>0</td>\n",
       "      <td>test</td>\n",
       "    </tr>\n",
       "    <tr>\n",
       "      <th>254469</th>\n",
       "      <td>PRMERL</td>\n",
       "      <td>0</td>\n",
       "      <td>P...RL</td>\n",
       "      <td>(1, 2, 3)</td>\n",
       "      <td>0</td>\n",
       "      <td>0.000003</td>\n",
       "      <td>0</td>\n",
       "      <td>test</td>\n",
       "    </tr>\n",
       "    <tr>\n",
       "      <th>68647</th>\n",
       "      <td>CRIMAQ</td>\n",
       "      <td>1</td>\n",
       "      <td>C...AQ</td>\n",
       "      <td>(1, 2, 3)</td>\n",
       "      <td>0</td>\n",
       "      <td>0.999993</td>\n",
       "      <td>1</td>\n",
       "      <td>test</td>\n",
       "    </tr>\n",
       "  </tbody>\n",
       "</table>\n",
       "<p>396308 rows × 8 columns</p>\n",
       "</div>"
      ],
      "text/plain": [
       "           seq  label   motif  positions  mult_motifs  pred_prob  pred_label  \\\n",
       "194320  KRASAM      1  ..ASA.  (0, 1, 5)            0   0.999998           1   \n",
       "193740  KQQDKA      0  ..QD.A  (0, 1, 4)            0   0.000013           0   \n",
       "378379  WQLPMS      0  ..LP.S  (0, 1, 4)            0   0.000092           0   \n",
       "71416   CTSRAN      1  ..SRA.  (0, 1, 5)            0   0.999993           1   \n",
       "214519  MASAHQ      1  .AS..Q  (0, 3, 4)            0   0.999987           1   \n",
       "...        ...    ...     ...        ...          ...        ...         ...   \n",
       "216596  MELPQS      0  ..LP.S  (0, 1, 4)            0   0.000014           0   \n",
       "83895   DMDAAQ      1  D.DA..  (1, 4, 5)            0   0.999991           1   \n",
       "293577  RILYRR      0  R...RR  (1, 2, 3)            0   0.000010           0   \n",
       "254469  PRMERL      0  P...RL  (1, 2, 3)            0   0.000003           0   \n",
       "68647   CRIMAQ      1  C...AQ  (1, 2, 3)            0   0.999993           1   \n",
       "\n",
       "        split  \n",
       "194320  train  \n",
       "193740  train  \n",
       "378379  train  \n",
       "71416   train  \n",
       "214519  train  \n",
       "...       ...  \n",
       "216596   test  \n",
       "83895    test  \n",
       "293577   test  \n",
       "254469   test  \n",
       "68647    test  \n",
       "\n",
       "[396308 rows x 8 columns]"
      ]
     },
     "execution_count": 20,
     "metadata": {},
     "output_type": "execute_result"
    }
   ],
   "source": [
    "test_dataset[\"split\"] =\"test\"\n",
    "train_val_dataset[\"split\"] =\"train\"\n",
    "df_predicted=pd.concat([train_val_dataset, test_dataset ])\n",
    "df_predicted"
   ]
  },
  {
   "cell_type": "code",
   "execution_count": 21,
   "metadata": {},
   "outputs": [],
   "source": [
    "filename_predicted= \"predicted_\" + filename\n",
    "df_predicted.to_csv(os.path.join(data_dir, filename_predicted), index=None)"
   ]
  },
  {
   "cell_type": "code",
   "execution_count": 22,
   "metadata": {},
   "outputs": [
    {
     "data": {
      "text/plain": [
       "'predicted_classification_SeqLen6_MotifLen3_MotifsNum50.csv'"
      ]
     },
     "execution_count": 22,
     "metadata": {},
     "output_type": "execute_result"
    }
   ],
   "source": [
    "filename_predicted"
   ]
  },
  {
   "cell_type": "code",
   "execution_count": null,
   "metadata": {},
   "outputs": [],
   "source": [
    "import re\n",
    "MOTIFS= df['motif'].unique()\n",
    "def find_motif(seq):\n",
    "    # negative matching is first (presence of low fitness motif preculdes further enrichment) \n",
    "    for motif in MOTIFS:\n",
    "        if re.match(motif, seq):\n",
    "            return  motif \n"
   ]
  },
  {
   "cell_type": "code",
   "execution_count": null,
   "metadata": {},
   "outputs": [],
   "source": []
  }
 ],
 "metadata": {
  "kernelspec": {
   "display_name": "dna",
   "language": "python",
   "name": "python3"
  },
  "language_info": {
   "codemirror_mode": {
    "name": "ipython",
    "version": 3
   },
   "file_extension": ".py",
   "mimetype": "text/x-python",
   "name": "python",
   "nbconvert_exporter": "python",
   "pygments_lexer": "ipython3",
   "version": "3.1.-1"
  }
 },
 "nbformat": 4,
 "nbformat_minor": 2
}
